{
 "cells": [
  {
   "cell_type": "code",
   "execution_count": 3,
   "id": "b2e035d8",
   "metadata": {},
   "outputs": [],
   "source": [
    "from lib2to3.pgen2.driver import Driver\n",
    "import pandas as pd\n",
    "import pymongo\n",
    "import json"
   ]
  },
  {
   "cell_type": "markdown",
   "id": "27be4216",
   "metadata": {},
   "source": [
    "**Guardar los datos en un csv**"
   ]
  },
  {
   "cell_type": "code",
   "execution_count": 6,
   "id": "6b04da70",
   "metadata": {},
   "outputs": [],
   "source": [
    "client=pymongo.MongoClient('mongodb://localhost:27017')\n",
    "db = client.get_database('facebook-free-fire')\n",
    "collection = db.get_collection('Documentos')\n",
    "\n",
    "df = pd.DataFrame(list(collection.find()))## Exportar a Excel o CSV:\n",
    "\n",
    "df.to_csv('facebook-free-fire.csv', index=False,)\n",
    "\n"
   ]
  },
  {
   "cell_type": "code",
   "execution_count": 16,
   "id": "6b4a67c2",
   "metadata": {},
   "outputs": [],
   "source": [
    "import sqlite3\n",
    "import pandas as pd\n",
    "\n",
    "conn = sqlite3.connect('free-fire1.db')\n",
    "c = conn.cursor()\n",
    "users = pd.read_csv('facebook-free-fire.csv')\n",
    "users.to_sql('recoleccion', conn, if_exists='append', index = False, chunksize = 10000)\n",
    "#recoleccion nuevo nombre de la tabla"
   ]
  },
  {
   "cell_type": "code",
   "execution_count": null,
   "id": "b7d722e2",
   "metadata": {},
   "outputs": [],
   "source": []
  }
 ],
 "metadata": {
  "kernelspec": {
   "display_name": "Python 3 (ipykernel)",
   "language": "python",
   "name": "python3"
  },
  "language_info": {
   "codemirror_mode": {
    "name": "ipython",
    "version": 3
   },
   "file_extension": ".py",
   "mimetype": "text/x-python",
   "name": "python",
   "nbconvert_exporter": "python",
   "pygments_lexer": "ipython3",
   "version": "3.10.0"
  }
 },
 "nbformat": 4,
 "nbformat_minor": 5
}
